{
  "nbformat": 4,
  "nbformat_minor": 0,
  "metadata": {
    "colab": {
      "provenance": [],
      "authorship_tag": "ABX9TyNLprrZOBpzH6uhZLJXa3a8",
      "include_colab_link": true
    },
    "kernelspec": {
      "name": "python3",
      "display_name": "Python 3"
    },
    "language_info": {
      "name": "python"
    }
  },
  "cells": [
    {
      "cell_type": "markdown",
      "metadata": {
        "id": "view-in-github",
        "colab_type": "text"
      },
      "source": [
        "<a href=\"https://colab.research.google.com/github/zt672/DataScience-Demo-2024/blob/main/DataScience_Demo.ipynb\" target=\"_parent\"><img src=\"https://colab.research.google.com/assets/colab-badge.svg\" alt=\"Open In Colab\"/></a>"
      ]
    },
    {
      "cell_type": "markdown",
      "source": [
        "## Ingest"
      ],
      "metadata": {
        "id": "-1qst0-l3-fg"
      }
    },
    {
      "cell_type": "code",
      "source": [],
      "metadata": {
        "id": "JX743AW84CBH"
      },
      "execution_count": null,
      "outputs": []
    },
    {
      "cell_type": "markdown",
      "source": [
        "## EDA"
      ],
      "metadata": {
        "id": "mISRmhCR4CaF"
      }
    },
    {
      "cell_type": "code",
      "source": [],
      "metadata": {
        "id": "ap6e_KkV4EUJ"
      },
      "execution_count": null,
      "outputs": []
    },
    {
      "cell_type": "markdown",
      "source": [
        "## Modeling"
      ],
      "metadata": {
        "id": "cecr6S8a4Efa"
      }
    },
    {
      "cell_type": "markdown",
      "source": [
        "### Classification Algorithm 1"
      ],
      "metadata": {
        "id": "4t7fGta24IRA"
      }
    },
    {
      "cell_type": "code",
      "source": [],
      "metadata": {
        "id": "kiLdxWYs4GF-"
      },
      "execution_count": null,
      "outputs": []
    },
    {
      "cell_type": "markdown",
      "source": [
        "## Conclusion"
      ],
      "metadata": {
        "id": "g0CZYn_u4GMN"
      }
    },
    {
      "cell_type": "code",
      "source": [],
      "metadata": {
        "id": "92O8EE0D4HfQ"
      },
      "execution_count": null,
      "outputs": []
    }
  ]
}